{
 "cells": [
  {
   "cell_type": "code",
   "execution_count": 12,
   "metadata": {},
   "outputs": [
    {
     "name": "stdout",
     "output_type": "stream",
     "text": [
      "직원번호=> 1\n",
      "직원번호=>  1\n",
      "직원이름=> 성이현\n",
      "주민번호=> 920429-20183330\n",
      "키=> 185.5\n",
      "몸무게=> 65.9\n",
      "결혼여부=> False\n"
     ]
    }
   ],
   "source": [
    "# --------------------------------------주석입니다.\n",
    "# e_no라는 변수 선언하고 직원번호 1 저장하기\n",
    "# e_name라는 변수 선언하고 직원이름 성이현 저장하기\n",
    "# jumin_num이라는 변수 선언하고 주민번호 920429-2018333 저장하기\n",
    "# height이라는 변수 선언하고 키 185.5 저장하기\n",
    "# weight이라는 변수 선언하고 몸무게 65.9 저장하기\n",
    "# --------------------------------------\n",
    "e_no = 1;\n",
    "e_name = \"성이현\";\n",
    "jumin_num = \"920429-20183330\";\n",
    "height = 185.5;\n",
    "weight = 65.9;\n",
    "is_marry = False;\n",
    "\n",
    "print( \"직원번호=> \"+str(e_no) )\n",
    "print( \"직원번호=> \",e_no )\n",
    "print( \"직원이름=> \"+e_name)\n",
    "print( \"주민번호=> \"+jumin_num)\n",
    "print( \"키=> \"+str(height))\n",
    "print( \"몸무게=> \"+str(weight))\n",
    "print( \"결혼여부=> \"+str(is_marry))\n",
    "\n",
    "\n",
    "# --------------------------------------\n",
    "# <문> e_name = \"성이현\";를 e_name = '성이현';로 수정하면?\n",
    "# --------------------------------------\n",
    "    # 가능하다. 문자데이터는 \" 또는 '로 감싼다.\n",
    "\n",
    "# --------------------------------------\n",
    "# <문> print( \"직원번호=> \"+str(e_no) );를 print( \"직원번호=> \"+e_no )로 수정하면?\n",
    "# --------------------------------------\n",
    "    # 에러발생\n",
    "    # 문자+숫자 에서 +는 연결연산자이다. 단 좌우가 모두 문자어야한다.\n",
    "    # 연결연산자 사용 시 자바와 자스처럼 숫자가 문자로 자동형변환이 되지 않는다.\n",
    "    # 그러므로 숫자를 문자로 변환하기 위해 str()이라는 내장함수를 사용해 문자로 형변환을 해야한다.\n",
    "    \n",
    "# --------------------------------------\n",
    "# <문> print( \"직원번호=> \"+str(e_no) );를 print( \"직원번호=> \",e_no )로 수정하면?\n",
    "# --------------------------------------\n",
    "    # 가능하다. print함수 호출 시 매개변수로 2개 이상의 데이터를 던져주는 형식으로 호출하면 \n",
    "    # 형 변환이 필요 없다\n"
   ]
  },
  {
   "cell_type": "code",
   "execution_count": null,
   "metadata": {},
   "outputs": [],
   "source": []
  }
 ],
 "metadata": {
  "kernelspec": {
   "display_name": "Python 3",
   "language": "python",
   "name": "python3"
  },
  "language_info": {
   "codemirror_mode": {
    "name": "ipython",
    "version": 3
   },
   "file_extension": ".py",
   "mimetype": "text/x-python",
   "name": "python",
   "nbconvert_exporter": "python",
   "pygments_lexer": "ipython3",
   "version": "3.7.3"
  }
 },
 "nbformat": 4,
 "nbformat_minor": 2
}
