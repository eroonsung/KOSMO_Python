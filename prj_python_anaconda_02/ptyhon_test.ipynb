{
 "cells": [
  {
   "cell_type": "code",
   "execution_count": 3,
   "metadata": {},
   "outputs": [
    {
     "name": "stdout",
     "output_type": "stream",
     "text": [
      "직원번호=> 1\n",
      "직원번호=>  1\n",
      "직원명=> 한승태\n",
      "주민번호=> 920429-2018333\n",
      "키=> 177.5\n",
      "몸무게=> 65.9\n"
     ]
    }
   ],
   "source": [
    "#---------------------------------------------\n",
    "# e_no 라는 변수 선언하고 직원번호 1 저장하기\n",
    "# e_name  라는 변수 선언하고 직원이름 한승태 저장하기\n",
    "# jumin_num  라는 변수 선언하고 주민번호 920429-2018333 저장하기\n",
    "# tall  라는 변수 선언하고 키 177.5 저장하기\n",
    "# weight  라는 변수 선언하고 몸무게 65.9 저장하기\n",
    "#---------------------------------------------\n",
    "e_no = 1;\n",
    "e_name=\"한승태\";\n",
    "jumin_num = \"920429-2018333\";\n",
    "tall = 177.5;\n",
    "weight = 65.9;\n",
    "is_marry=False;\n",
    "\n",
    "print(\"직원번호=> \"+str(e_no));\n",
    "print(\"직원번호=> \",e_no);\n",
    "print(\"직원명=> \"+e_name);\n",
    "print(\"주민번호=> \"+jumin_num);\n",
    "print(\"키=> \"+str(tall));\n",
    "print(\"몸무게=> \"+str(weight));\n",
    "\n",
    "# --------------------------------------\n",
    "# <문> e_name = \"성이현\";를 e_name = '성이현';로 수정하면?\n",
    "# --------------------------------------\n",
    "    # 가능하다. 문자데이터는 \" 또는 '로 감싼다.\n",
    "\n",
    "# --------------------------------------\n",
    "# <문> print( \"직원번호=> \"+str(e_no) );를 print( \"직원번호=> \"+e_no )로 수정하면?\n",
    "# --------------------------------------\n",
    "    # 에러발생\n",
    "    # 문자+숫자 에서 +는 연결연산자이다. 단 좌우가 모두 문자어야한다.\n",
    "    # 연결연산자 사용 시 자바와 자스처럼 숫자가 문자로 자동형변환이 되지 않는다.\n",
    "    # 그러므로 숫자를 문자로 변환하기 위해 str()이라는 내장함수를 사용해 문자로 형변환을 해야한다.\n",
    "    \n",
    "# --------------------------------------\n",
    "# <문> print( \"직원번호=> \"+str(e_no) );를 print( \"직원번호=> \",e_no )로 수정하면?\n",
    "# --------------------------------------\n",
    "    # 가능하다. print함수 호출 시 매개변수로 2개 이상의 데이터를 던져주는 형식으로 호출하면 \n",
    "    # 형 변환이 필요 없다.\n"
   ]
  },
  {
   "cell_type": "code",
   "execution_count": 8,
   "metadata": {},
   "outputs": [
    {
     "name": "stdout",
     "output_type": "stream",
     "text": [
      "7\n",
      "3\n",
      "10\n",
      "2.5\n",
      "2\n",
      "1\n",
      "여의봉여의봉여의봉\n",
      "여의봉여의봉여의봉\n"
     ]
    }
   ],
   "source": [
    "stu_name = \"여의봉\";\n",
    "num1 = 5;\n",
    "num2 = 2;\n",
    "print(num1+num2);\n",
    "print(num1-num2);\n",
    "print(num1*num2);\n",
    "print(num1/num2);  # /는 소수점까지 구한다.\n",
    "print(num1//num2)  # //는 몫만 구한다.\n",
    "print(num1%num2);  # %는 나머지를 구한다.\n",
    "\n",
    "print(stu_name+stu_name+stu_name);\n",
    "print(stu_name*3); # 문자*정수는 문자를 정수개만큼 반복해서 붙여준다.\n",
    "#<참고> 자바 : 정수/정수는 무조건 정수"
   ]
  },
  {
   "cell_type": "code",
   "execution_count": 36,
   "metadata": {},
   "outputs": [
    {
     "name": "stdout",
     "output_type": "stream",
     "text": [
      "직원명=> 사오정\n",
      "성=> 사\n",
      "이름=> 오정\n",
      "\n",
      "출생년도=> 99년\n",
      "출생월=> 12월\n",
      "출생일=> 25일\n",
      "1999년 12월 25일\n",
      "주민번호 마지막 숫자=> 3\n",
      "주민번호 뒷자리 7개=> 1018123\n",
      "주민번호 앞자리 7개=> 991225\n"
     ]
    }
   ],
   "source": [
    "e_name = \"사오정\";\n",
    "jumin_num = \"991225-1018123\"\n",
    "print(\"직원명=> \"+e_name);\n",
    "print(\"성=> \"+e_name[0]); #e_name 변수 안의 문자에서 인덱스번호 0의 문자를 복사해 리턴하기. e_name[0:1]도 가능\n",
    "print(\"이름=> \"+e_name[1:3]);\n",
    "print()\n",
    "print(\"출생년도=> \"+jumin_num[0:2]+\"년\"); #jumin_num 변수 안의 문자에서 인덱스번호 0~2미만까지 복사해 리턴하기. 즉 0~1까지\n",
    "print(\"출생월=> \"+jumin_num[2:4]+\"월\");\n",
    "print(\"출생일=> \"+jumin_num[4:6]+\"일\");\n",
    "print(\"19\"+jumin_num[0:2]+\"년 \"+jumin_num[2:4]+\"월 \"+jumin_num[4:6]+\"일\");\n",
    "print(\"주민번호 마지막 숫자=> \"+jumin_num[-1]); #jumin_num 변수 안의 문자에서 마지막 인덱스번호에 해당하는 문자 복사해 리턴하기\n",
    "print(\"주민번호 뒷자리 7개=> \"+jumin_num[7:]); #jumin_num[7:14]와 동일\n",
    "print(\"주민번호 앞자리 7개=> \"+jumin_num[:6]); #jumin_num[0:6]와 동일"
   ]
  },
  {
   "cell_type": "code",
   "execution_count": 60,
   "metadata": {},
   "outputs": [
    {
     "name": "stdout",
     "output_type": "stream",
     "text": [
      "내가 좋아하는 과일은 수박이다.\n",
      "내가 좋아하는 과일은 딸기이다.\n",
      "나의 나이는 25살이다.\n",
      "나의 이름은 성이현이고, 나이는 25살이다.\n",
      "나의 이름은 성이현이고, 나이는 25살, 키는 155.9cm이다.\n"
     ]
    }
   ],
   "source": [
    "msg = \"내가 좋아하는 과일은 %s이다.\" # %s자리는 커스터마이징할 수 있는 자리이다. 즉, 문자로 대체가능\n",
    "print( msg%\"수박\" ); # msg변수 안의 데이터에서 %s 자리에 문자를 수박으로 바꾼 후 출력하기\n",
    "print( msg%\"딸기\" );\n",
    "msg2 = \"나의 나이는 %d살이다.\" # %d자리는 커스터마이징할 수 있는 자리이다. 즉, 숫자로 대체가능\n",
    "print( msg2%25 ); # msg변수 안의 데이터에서 %d 자리에 숫자 27으로 바꾼 후 출력하기\n",
    "msg3 = \"나의 이름은 %s이고, 나이는 %d살이다.\"\n",
    "print( msg3%(\"성이현\",25) );\n",
    "msg4 = \"나의 이름은 %s이고, 나이는 %d살, 키는 %0.1fcm이다.\" # %f자리는 커스터마이징할 수 있는 자리이다. 즉, 실수로 대체 가능\n",
    "print( msg4%(\"성이현\", 25, 155.9) )"
   ]
  },
  {
   "cell_type": "code",
   "execution_count": null,
   "metadata": {},
   "outputs": [],
   "source": []
  }
 ],
 "metadata": {
  "kernelspec": {
   "display_name": "Python 3",
   "language": "python",
   "name": "python3"
  },
  "language_info": {
   "codemirror_mode": {
    "name": "ipython",
    "version": 3
   },
   "file_extension": ".py",
   "mimetype": "text/x-python",
   "name": "python",
   "nbconvert_exporter": "python",
   "pygments_lexer": "ipython3",
   "version": "3.7.3"
  }
 },
 "nbformat": 4,
 "nbformat_minor": 2
}
